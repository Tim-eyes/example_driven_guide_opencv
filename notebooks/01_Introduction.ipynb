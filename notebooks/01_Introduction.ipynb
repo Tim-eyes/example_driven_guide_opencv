{
 "cells": [
  {
   "cell_type": "markdown",
   "source": [
    "# Introduction "
   ],
   "metadata": {}
  },
  {
   "cell_type": "markdown",
   "source": [
    "## Deployed Libary"
   ],
   "metadata": {}
  },
  {
   "cell_type": "code",
   "execution_count": null,
   "source": [
    "# \r\n",
    "# Based environment:\r\n",
    "# \r\n",
    "from __future__ import print_function\r\n",
    "from  matplotlib import pyplot as plt\r\n",
    "%matplotlib inline\r\n",
    "import cv2\r\n",
    "import numpy as np\r\n",
    "import pandas as pd"
   ],
   "outputs": [],
   "metadata": {}
  },
  {
   "cell_type": "markdown",
   "source": [
    "## Usage "
   ],
   "metadata": {}
  },
  {
   "cell_type": "code",
   "execution_count": null,
   "source": [
    "import argparse \r\n",
    "\r\n",
    "ap = argparse.ArgumentParser()\r\n",
    "ap.add_argument(\"-i\", \"--image\", required = True,\r\n",
    "help = \"Path to the image\")\r\n",
    "args = vars(ap.parse_args())"
   ],
   "outputs": [],
   "metadata": {}
  },
  {
   "cell_type": "markdown",
   "source": [
    "```\r\n",
    "python <PYTHON-SOURCE-FILE-PATH> [-i | --image] <IMAGE-SOURCE-FILE-PATH>\r\n",
    "```"
   ],
   "metadata": {}
  }
 ],
 "metadata": {
  "orig_nbformat": 4,
  "language_info": {
   "name": "python"
  }
 },
 "nbformat": 4,
 "nbformat_minor": 2
}